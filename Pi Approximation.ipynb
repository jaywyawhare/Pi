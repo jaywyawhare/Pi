{
 "cells": [
  {
   "attachments": {},
   "cell_type": "markdown",
   "metadata": {},
   "source": [
    "# Approximation of value of Pi using different methods\n",
    "\n",
    "1. Approximation of pi using infinite series\n",
    "2. Approximation of Pi using Monte Carlo method\n",
    "3. Approximation of Pi using Co-prime method\n",
    "4. Approximation of Pi using dart game\n",
    "5. "
   ]
  },
  {
   "cell_type": "code",
   "execution_count": 1,
   "metadata": {},
   "outputs": [],
   "source": [
    "import numpy as np\n",
    "from numpy.random import randint\n",
    "from math import sqrt\n",
    "import random\n",
    "import shapely\n",
    "from shapely.geometry import LineString\n",
    "import math\n",
    "import sys\n",
    "max = sys.maxsize"
   ]
  },
  {
   "cell_type": "code",
   "execution_count": 2,
   "metadata": {},
   "outputs": [],
   "source": [
    "def iteration():\n",
    "    max = sys.maxsize\n",
    "    a = np.random.randint(0, max)\n",
    "    b = np.random.randint(0, max)\n",
    "    gcd = np.gcd(a, b)\n",
    "    return gcd\n",
    "\n",
    "def ValuePi(countCoPrime, n):\n",
    "    return sqrt(6/(countCoPrime/n))"
   ]
  },
  {
   "cell_type": "code",
   "execution_count": 3,
   "metadata": {},
   "outputs": [],
   "source": [
    "def calc(num):\n",
    "    countCoPrime = 0\n",
    "    for i in range(num):\n",
    "        gcd = iteration()\n",
    "        if gcd ==1 :\n",
    "            countCoPrime += 1\n",
    "    ans = round(ValuePi(countCoPrime, num), 8)\n",
    "    return ans \n"
   ]
  },
  {
   "cell_type": "code",
   "execution_count": 4,
   "metadata": {},
   "outputs": [
    {
     "name": "stdout",
     "output_type": "stream",
     "text": [
      "Approximate value of pi 3.1250012389383226 with accurancy 99.47187898272942%\n"
     ]
    }
   ],
   "source": [
    "running = 0 \n",
    "for i in range(1500):\n",
    "    try:\n",
    "        ans = calc(i)\n",
    "        running = (running + ans)/2\n",
    "    except:\n",
    "        pass\n",
    "\n",
    "pi = 3.14159265\n",
    "accurancy = abs(pi-running)/pi * 100\n",
    "print(f'Approximate value of pi {running} with accurancy {100-accurancy}%')"
   ]
  },
  {
   "cell_type": "code",
   "execution_count": 5,
   "metadata": {},
   "outputs": [],
   "source": [
    "def randomLine():\n",
    "    x1, y1 = random.uniform(0, 98), random.uniform(0, 98)\n",
    "    angle = math.radians(random.uniform(0, 360))\n",
    "    length = 1\n",
    "    x2 = x1 + length * math.cos(angle)\n",
    "    y2 = y1 + length * math.sin(angle)\n",
    "    return ((x1, y1), (x2, y2))\n"
   ]
  },
  {
   "cell_type": "code",
   "execution_count": 6,
   "metadata": {},
   "outputs": [],
   "source": [
    "def isTouching():\n",
    "    lines = []\n",
    "    for y in [j for j in range(0,100,2)]:\n",
    "        line = ((0, y), (100, y))\n",
    "        lines.append(line)\n",
    "    l = randomLine()\n",
    "    for line in lines:\n",
    "        if LineString(l).intersects(LineString(line)):\n",
    "            return True\n",
    "    return False\n"
   ]
  },
  {
   "cell_type": "code",
   "execution_count": 7,
   "metadata": {},
   "outputs": [
    {
     "name": "stdout",
     "output_type": "stream",
     "text": [
      "Approximate value of pi 3.1297430003848206 with accurancy 99.62281393753643%\n"
     ]
    }
   ],
   "source": [
    "count = 0\n",
    "pii = 0\n",
    "running = 0\n",
    "\n",
    "for i in range(50000):\n",
    "    if isTouching() == True:\n",
    "        count +=1\n",
    "    try:\n",
    "        pii = i/count\n",
    "        running = (running+pii)/2\n",
    "    except:\n",
    "        pass\n",
    "\n",
    "pi = 3.14159265\n",
    "accurancy = abs(pi-running)/pi * 100\n",
    "print(f'Approximate value of pi {running} with accurancy {100-accurancy}%')"
   ]
  },
  {
   "cell_type": "code",
   "execution_count": 8,
   "metadata": {},
   "outputs": [
    {
     "name": "stdout",
     "output_type": "stream",
     "text": [
      "Approximate value of pi 3.141592643589326 with accurancy 99.9999997959419%\n"
     ]
    }
   ],
   "source": [
    "list = [x for x in range(1, 200000000, 2)]\n",
    "ans = 0\n",
    "\n",
    "for i in range(100000000):\n",
    "    sign = (-1) ** i\n",
    "    num = 1/list[i]\n",
    "    ans = ans + sign * num\n",
    "\n",
    "ans = 4 * ans\n",
    "pi = 3.14159265\n",
    "accurancy = abs(pi-ans)/pi * 100\n",
    "print(f'Approximate value of pi {ans} with accurancy {100-accurancy}%')"
   ]
  },
  {
   "cell_type": "code",
   "execution_count": 9,
   "metadata": {},
   "outputs": [],
   "source": [
    "def square():\n",
    "    x1, y1 = (0,0) , (2,0)\n",
    "    x2, y2 = (2,0) , (2,2)\n",
    "    return ((x1, y1), (x2, y2))\n",
    "\n",
    "def circle():\n",
    "    center = (1,1)\n",
    "    radius = 2\n",
    "    return center, radius\n",
    "\n",
    "def inCircle(x, y):\n",
    "    center, radius = circle()\n",
    "    if (x - center[0]) ** 2 + (y - center[1]) ** 2 <= radius ** 2:\n",
    "        return True\n",
    "    return False\n"
   ]
  },
  {
   "cell_type": "code",
   "execution_count": 10,
   "metadata": {},
   "outputs": [
    {
     "name": "stdout",
     "output_type": "stream",
     "text": [
      "Approximate value of pi 3.129631947921883 with accurancy 99.61927902784859%\n"
     ]
    }
   ],
   "source": [
    "for i in range(10000000):\n",
    "    x = random.uniform(0, 4)\n",
    "    y = random.uniform(0, 4)\n",
    "    if inCircle(x, y):\n",
    "        count += 1\n",
    "    try:\n",
    "        piii = 4 * count / i\n",
    "    except:\n",
    "        pass\n",
    "\n",
    "pi = 3.14159265\n",
    "accurancy = abs(pi-pii)/pi * 100\n",
    "print(f'Approximate value of pi {pii} with accurancy {100-accurancy}%')"
   ]
  },
  {
   "cell_type": "code",
   "execution_count": 83,
   "metadata": {},
   "outputs": [
    {
     "name": "stdout",
     "output_type": "stream",
     "text": [
      "Approximate value of pi 3.141592653589793 with accurancy 99.99999988573335%\n"
     ]
    }
   ],
   "source": [
    "randomNum = np.random.randint(1,7)\n",
    "\n",
    "def calculate(num):\n",
    "    return num + math.sin(num)\n",
    "\n",
    "for i in range(10):\n",
    "    result = calculate(randomNum)\n",
    "    randomNum = result\n",
    "\n",
    "pi = 3.14159265\n",
    "accurancy = abs(pi-result)/pi * 100\n",
    "print(f'Approximate value of pi {result} with accurancy {100-accurancy}%')"
   ]
  },
  {
   "cell_type": "code",
   "execution_count": 96,
   "metadata": {},
   "outputs": [
    {
     "ename": "TypeError",
     "evalue": "unsupported operand type(s) for *: 'NoneType' and 'int'",
     "output_type": "error",
     "traceback": [
      "\u001b[0;31m---------------------------------------------------------------------------\u001b[0m",
      "\u001b[0;31mTypeError\u001b[0m                                 Traceback (most recent call last)",
      "\u001b[1;32m/home/arrry/.github/my_repo/Spamdetection/notebooks/Pi Approximation.ipynb Cell 12\u001b[0m in \u001b[0;36m1\n\u001b[1;32m     <a href='vscode-notebook-cell://wsl%2Bdebian/home/arrry/.github/my_repo/Spamdetection/notebooks/Pi%20Approximation.ipynb#X16sdnNjb2RlLXJlbW90ZQ%3D%3D?line=10'>11</a>\u001b[0m         \u001b[39mexcept\u001b[39;00m:\n\u001b[1;32m     <a href='vscode-notebook-cell://wsl%2Bdebian/home/arrry/.github/my_repo/Spamdetection/notebooks/Pi%20Approximation.ipynb#X16sdnNjb2RlLXJlbW90ZQ%3D%3D?line=11'>12</a>\u001b[0m             \u001b[39mpass\u001b[39;00m\n\u001b[0;32m---> <a href='vscode-notebook-cell://wsl%2Bdebian/home/arrry/.github/my_repo/Spamdetection/notebooks/Pi%20Approximation.ipynb#X16sdnNjb2RlLXJlbW90ZQ%3D%3D?line=13'>14</a>\u001b[0m pii \u001b[39m=\u001b[39m sqrt(sqrt(iteration() \u001b[39m*\u001b[39;49m \u001b[39m40\u001b[39;49m))\n",
      "\u001b[0;31mTypeError\u001b[0m: unsupported operand type(s) for *: 'NoneType' and 'int'"
     ]
    }
   ],
   "source": [
    "# pi^4/40 = 1/1^4 + 1/2^4 + 1/3^4 + 1/4^4 + 1/5^4 + 1/6^4 + 1/7^4 + 1/8^4 + 1/9^4 + 1/10^4 + 1/11^4 + 1/12^4 + 1/13^4 + 1/14^4 + 1/15^4 + 1/16^4 + 1/17^4 + 1/18^4 + 1/19^4 + 1/20^4\n",
    "\n",
    "def calculate(num):\n",
    "    return 1/(num**4)\n",
    "\n",
    "def iteration():\n",
    "    for i in range(20000000):\n",
    "        try:\n",
    "            result = calculate(i)\n",
    "            result = result + result\n",
    "        except:\n",
    "            pass\n",
    "\n",
    "pii = sqrt(sqrt(iteration() * 40))\n"
   ]
  },
  {
   "cell_type": "code",
   "execution_count": 97,
   "metadata": {},
   "outputs": [
    {
     "name": "stdout",
     "output_type": "stream",
     "text": [
      "Approximate value of pi 1.4953488559886632e-07 with accurancy 99.99999988573335%\n"
     ]
    }
   ],
   "source": [
    "print(f'Approximate value of pi {pii} with accurancy {100-accurancy}%')"
   ]
  }
 ],
 "metadata": {
  "kernelspec": {
   "display_name": "Python 3",
   "language": "python",
   "name": "python3"
  },
  "language_info": {
   "codemirror_mode": {
    "name": "ipython",
    "version": 3
   },
   "file_extension": ".py",
   "mimetype": "text/x-python",
   "name": "python",
   "nbconvert_exporter": "python",
   "pygments_lexer": "ipython3",
   "version": "3.9.2"
  },
  "orig_nbformat": 4
 },
 "nbformat": 4,
 "nbformat_minor": 2
}
