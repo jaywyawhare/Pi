{
 "cells": [
  {
   "cell_type": "code",
   "execution_count": 1,
   "metadata": {},
   "outputs": [],
   "source": [
    "import numpy as np\n",
    "import math"
   ]
  },
  {
   "cell_type": "code",
   "execution_count": 2,
   "metadata": {},
   "outputs": [
    {
     "name": "stdout",
     "output_type": "stream",
     "text": [
      "Approximate value of pi 3.141592653589793 with accurancy 100.0%\n"
     ]
    }
   ],
   "source": [
    "randomNum = np.random.randint(1,7)\n",
    "\n",
    "def calculate(num):\n",
    "    return num + math.sin(num)\n",
    "\n",
    "for i in range(10):\n",
    "    result = calculate(randomNum)\n",
    "    randomNum = result\n",
    "\n",
    "pi = math.pi\n",
    "accurancy = abs(pi-result)/pi * 100\n",
    "print(f'Approximate value of pi {result} with accurancy {100-accurancy}%')"
   ]
  }
 ],
 "metadata": {
  "kernelspec": {
   "display_name": "ML",
   "language": "python",
   "name": "python3"
  },
  "language_info": {
   "codemirror_mode": {
    "name": "ipython",
    "version": 3
   },
   "file_extension": ".py",
   "mimetype": "text/x-python",
   "name": "python",
   "nbconvert_exporter": "python",
   "pygments_lexer": "ipython3",
   "version": "3.9.16"
  },
  "orig_nbformat": 4
 },
 "nbformat": 4,
 "nbformat_minor": 2
}
