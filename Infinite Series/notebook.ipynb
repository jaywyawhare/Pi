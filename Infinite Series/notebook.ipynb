{
 "cells": [
  {
   "cell_type": "code",
   "execution_count": 1,
   "metadata": {},
   "outputs": [],
   "source": [
    "import math \n",
    "from math import sqrt"
   ]
  },
  {
   "cell_type": "code",
   "execution_count": 2,
   "metadata": {},
   "outputs": [
    {
     "name": "stdout",
     "output_type": "stream",
     "text": [
      "Approximate value of pi 3.141592643589326 with accurancy 99.99999968167525%\n"
     ]
    }
   ],
   "source": [
    "list = [x for x in range(1, 200000000, 2)]\n",
    "ans = 0\n",
    "\n",
    "for i in range(100000000):\n",
    "    sign = (-1) ** i\n",
    "    num = 1/list[i]\n",
    "    ans = ans + sign * num\n",
    "\n",
    "ans = 4 * ans\n",
    "pi = math.pi\n",
    "accurancy = abs(pi-ans)/pi * 100\n",
    "print(f'Approximate value of pi {ans} with accurancy {100-accurancy}%')"
   ]
  }
 ],
 "metadata": {
  "kernelspec": {
   "display_name": "ML",
   "language": "python",
   "name": "python3"
  },
  "language_info": {
   "codemirror_mode": {
    "name": "ipython",
    "version": 3
   },
   "file_extension": ".py",
   "mimetype": "text/x-python",
   "name": "python",
   "nbconvert_exporter": "python",
   "pygments_lexer": "ipython3",
   "version": "3.9.16"
  },
  "orig_nbformat": 4
 },
 "nbformat": 4,
 "nbformat_minor": 2
}
