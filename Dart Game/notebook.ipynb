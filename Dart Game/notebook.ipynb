{
 "cells": [
  {
   "cell_type": "code",
   "execution_count": 1,
   "metadata": {},
   "outputs": [],
   "source": [
    "import random\n",
    "import math"
   ]
  },
  {
   "cell_type": "code",
   "execution_count": 2,
   "metadata": {},
   "outputs": [],
   "source": [
    "def square():\n",
    "    x1, y1 = (0,0) , (2,0)\n",
    "    x2, y2 = (2,0) , (2,2)\n",
    "    return ((x1, y1), (x2, y2))\n",
    "\n",
    "def circle():\n",
    "    center = (1,1)\n",
    "    radius = 1\n",
    "    return center, radius\n",
    "\n",
    "def inCircle(x, y):\n",
    "    center, radius = circle()\n",
    "    if (x - center[0]) ** 2 + (y - center[1]) ** 2 <= radius ** 2:\n",
    "        return True\n",
    "    return False"
   ]
  },
  {
   "cell_type": "code",
   "execution_count": 3,
   "metadata": {},
   "outputs": [
    {
     "name": "stdout",
     "output_type": "stream",
     "text": [
      "Approximate value of pi: 3.1417184 with accuracy: 99.99599736744791%\n"
     ]
    }
   ],
   "source": [
    "count = 0\n",
    "pi = math.pi\n",
    "\n",
    "for i in range(1, 10000001):\n",
    "    x = random.uniform(0, 2)\n",
    "    y = random.uniform(0, 2)\n",
    "    \n",
    "    if inCircle(x, y):\n",
    "        count += 1\n",
    "    \n",
    "    try:\n",
    "        pii = 4 * count / i\n",
    "    except ZeroDivisionError:\n",
    "        pass\n",
    "\n",
    "accuracy = abs(pi - pii) / pi * 100\n",
    "print(f'Approximate value of pi: {pii} with accuracy: {100 - accuracy}%')\n"
   ]
  }
 ],
 "metadata": {
  "kernelspec": {
   "display_name": "ML",
   "language": "python",
   "name": "python3"
  },
  "language_info": {
   "codemirror_mode": {
    "name": "ipython",
    "version": 3
   },
   "file_extension": ".py",
   "mimetype": "text/x-python",
   "name": "python",
   "nbconvert_exporter": "python",
   "pygments_lexer": "ipython3",
   "version": "3.9.16"
  },
  "orig_nbformat": 4
 },
 "nbformat": 4,
 "nbformat_minor": 2
}
