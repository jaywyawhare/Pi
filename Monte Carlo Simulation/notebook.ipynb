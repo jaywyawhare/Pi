{
 "cells": [
  {
   "cell_type": "code",
   "execution_count": 1,
   "metadata": {},
   "outputs": [],
   "source": [
    "import random\n",
    "import shapely\n",
    "from shapely.geometry import LineString\n",
    "import math"
   ]
  },
  {
   "cell_type": "code",
   "execution_count": 2,
   "metadata": {},
   "outputs": [],
   "source": [
    "def randomLine():\n",
    "    x1, y1 = random.uniform(0, 98), random.uniform(0, 98)\n",
    "    angle = math.radians(random.uniform(0, 360))\n",
    "    length = 1\n",
    "    x2 = x1 + length * math.cos(angle)\n",
    "    y2 = y1 + length * math.sin(angle)\n",
    "    return ((x1, y1), (x2, y2))\n"
   ]
  },
  {
   "cell_type": "code",
   "execution_count": 3,
   "metadata": {},
   "outputs": [],
   "source": [
    "def isTouching():\n",
    "    lines = []\n",
    "    for y in [j for j in range(0,100,2)]:\n",
    "        line = ((0, y), (100, y))\n",
    "        lines.append(line)\n",
    "    l = randomLine()\n",
    "    for line in lines:\n",
    "        if LineString(l).intersects(LineString(line)):\n",
    "            return True\n",
    "    return False\n"
   ]
  },
  {
   "cell_type": "code",
   "execution_count": 4,
   "metadata": {},
   "outputs": [
    {
     "name": "stdout",
     "output_type": "stream",
     "text": [
      "Approximate value of pi 3.15984937006703 with accurancy 99.4188706656041%\n"
     ]
    }
   ],
   "source": [
    "count = 0\n",
    "pii = 0\n",
    "running = 0\n",
    "\n",
    "for i in range(50000):\n",
    "    if isTouching() == True:\n",
    "        count +=1\n",
    "    try:\n",
    "        pii = i/count\n",
    "        running = (running+pii)/2\n",
    "    except:\n",
    "        pass\n",
    "\n",
    "pi = math.pi\n",
    "accurancy = abs(pi-running)/pi * 100\n",
    "print(f'Approximate value of pi {running} with accurancy {100-accurancy}%')"
   ]
  }
 ],
 "metadata": {
  "kernelspec": {
   "display_name": "ML",
   "language": "python",
   "name": "python3"
  },
  "language_info": {
   "codemirror_mode": {
    "name": "ipython",
    "version": 3
   },
   "file_extension": ".py",
   "mimetype": "text/x-python",
   "name": "python",
   "nbconvert_exporter": "python",
   "pygments_lexer": "ipython3",
   "version": "3.9.16"
  },
  "orig_nbformat": 4
 },
 "nbformat": 4,
 "nbformat_minor": 2
}
