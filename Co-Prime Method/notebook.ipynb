{
 "cells": [
  {
   "cell_type": "code",
   "execution_count": 1,
   "metadata": {},
   "outputs": [],
   "source": [
    "import numpy as np\n",
    "from math import sqrt\n",
    "import math\n",
    "import sys\n",
    "max = sys.maxsize"
   ]
  },
  {
   "cell_type": "code",
   "execution_count": 2,
   "metadata": {},
   "outputs": [],
   "source": [
    "def iteration():\n",
    "    max = sys.maxsize\n",
    "    a = np.random.randint(0, max)\n",
    "    b = np.random.randint(0, max)\n",
    "    gcd = np.gcd(a, b)\n",
    "    return gcd\n",
    "\n",
    "def ValuePi(countCoPrime, n):\n",
    "    return sqrt(6/(countCoPrime/n))"
   ]
  },
  {
   "cell_type": "code",
   "execution_count": 3,
   "metadata": {},
   "outputs": [],
   "source": [
    "def calc(num):\n",
    "    countCoPrime = 0\n",
    "    for i in range(num):\n",
    "        gcd = iteration()\n",
    "        if gcd ==1 :\n",
    "            countCoPrime += 1\n",
    "    ans = round(ValuePi(countCoPrime, num), 8)\n",
    "    return ans \n"
   ]
  },
  {
   "cell_type": "code",
   "execution_count": 4,
   "metadata": {},
   "outputs": [
    {
     "name": "stdout",
     "output_type": "stream",
     "text": [
      "Approximate value of pi 3.127397272146171 with accurancy 99.54814697483452%\n"
     ]
    }
   ],
   "source": [
    "running = 0 \n",
    "for i in range(1500):\n",
    "    try:\n",
    "        ans = calc(i)\n",
    "        running = (running + ans)/2\n",
    "    except:\n",
    "        pass\n",
    "\n",
    "pi = math.pi\n",
    "accurancy = abs(pi-running)/pi * 100\n",
    "print(f'Approximate value of pi {running} with accurancy {100-accurancy}%')"
   ]
  }
 ],
 "metadata": {
  "kernelspec": {
   "display_name": "ML",
   "language": "python",
   "name": "python3"
  },
  "language_info": {
   "codemirror_mode": {
    "name": "ipython",
    "version": 3
   },
   "file_extension": ".py",
   "mimetype": "text/x-python",
   "name": "python",
   "nbconvert_exporter": "python",
   "pygments_lexer": "ipython3",
   "version": "3.9.16"
  },
  "orig_nbformat": 4
 },
 "nbformat": 4,
 "nbformat_minor": 2
}
